{
  "nbformat": 4,
  "nbformat_minor": 0,
  "metadata": {
    "colab": {
      "name": "Programming in Python.ipynb",
      "version": "0.3.2",
      "provenance": [],
      "collapsed_sections": []
    },
    "kernelspec": {
      "name": "python3",
      "display_name": "Python 3"
    }
  },
  "cells": [
    {
      "cell_type": "markdown",
      "metadata": {
        "id": "wOUtwS-Egsan",
        "colab_type": "text"
      },
      "source": [
        "# Programming in Python"
      ]
    },
    {
      "cell_type": "markdown",
      "metadata": {
        "id": "KPZ1Cho7g9Bm",
        "colab_type": "text"
      },
      "source": [
        "## Operations"
      ]
    },
    {
      "cell_type": "code",
      "metadata": {
        "id": "-Of1OUXjhC63",
        "colab_type": "code",
        "outputId": "f0eca868-d678-46d5-e637-8e7cdb4c1cda",
        "colab": {
          "base_uri": "https://localhost:8080/",
          "height": 34
        }
      },
      "source": [
        "24+765"
      ],
      "execution_count": 74,
      "outputs": [
        {
          "output_type": "execute_result",
          "data": {
            "text/plain": [
              "789"
            ]
          },
          "metadata": {
            "tags": []
          },
          "execution_count": 74
        }
      ]
    },
    {
      "cell_type": "code",
      "metadata": {
        "id": "HOigbxExjlK_",
        "colab_type": "code",
        "outputId": "b9658b29-d18f-4c54-fca8-35cfa8446ffc",
        "colab": {
          "base_uri": "https://localhost:8080/",
          "height": 34
        }
      },
      "source": [
        "652*9"
      ],
      "execution_count": 75,
      "outputs": [
        {
          "output_type": "execute_result",
          "data": {
            "text/plain": [
              "5868"
            ]
          },
          "metadata": {
            "tags": []
          },
          "execution_count": 75
        }
      ]
    },
    {
      "cell_type": "code",
      "metadata": {
        "id": "lNBHxX3Ajrkh",
        "colab_type": "code",
        "outputId": "bab81611-0a45-4cd3-cfaa-bf2703f6dcb5",
        "colab": {
          "base_uri": "https://localhost:8080/",
          "height": 34
        }
      },
      "source": [
        "5**2"
      ],
      "execution_count": 76,
      "outputs": [
        {
          "output_type": "execute_result",
          "data": {
            "text/plain": [
              "25"
            ]
          },
          "metadata": {
            "tags": []
          },
          "execution_count": 76
        }
      ]
    },
    {
      "cell_type": "code",
      "metadata": {
        "id": "AM1T2sDsjxSt",
        "colab_type": "code",
        "outputId": "1b220637-cf67-485b-cf51-95fbee2e9c80",
        "colab": {
          "base_uri": "https://localhost:8080/",
          "height": 34
        }
      },
      "source": [
        "(48562+98)**(9-6.3)"
      ],
      "execution_count": 77,
      "outputs": [
        {
          "output_type": "execute_result",
          "data": {
            "text/plain": [
              "4522355327066.134"
            ]
          },
          "metadata": {
            "tags": []
          },
          "execution_count": 77
        }
      ]
    },
    {
      "cell_type": "code",
      "metadata": {
        "id": "PrwqqHiFj5uM",
        "colab_type": "code",
        "outputId": "63488ae9-0aaf-497c-b6b2-c6131db23d15",
        "colab": {
          "base_uri": "https://localhost:8080/",
          "height": 34
        }
      },
      "source": [
        "(595/56)/6"
      ],
      "execution_count": 78,
      "outputs": [
        {
          "output_type": "execute_result",
          "data": {
            "text/plain": [
              "1.7708333333333333"
            ]
          },
          "metadata": {
            "tags": []
          },
          "execution_count": 78
        }
      ]
    },
    {
      "cell_type": "code",
      "metadata": {
        "id": "fzhtShfZo42W",
        "colab_type": "code",
        "outputId": "7485c427-de84-4865-ad02-65e13653438c",
        "colab": {
          "base_uri": "https://localhost:8080/",
          "height": 34
        }
      },
      "source": [
        "56/2 == 28"
      ],
      "execution_count": 79,
      "outputs": [
        {
          "output_type": "execute_result",
          "data": {
            "text/plain": [
              "True"
            ]
          },
          "metadata": {
            "tags": []
          },
          "execution_count": 79
        }
      ]
    },
    {
      "cell_type": "markdown",
      "metadata": {
        "id": "SmUKl76ajg2S",
        "colab_type": "text"
      },
      "source": [
        "## Assignments"
      ]
    },
    {
      "cell_type": "code",
      "metadata": {
        "id": "pR9_bxrqhv-P",
        "colab_type": "code",
        "colab": {}
      },
      "source": [
        "a = 6"
      ],
      "execution_count": 0,
      "outputs": []
    },
    {
      "cell_type": "code",
      "metadata": {
        "id": "dnI-7TMQhyji",
        "colab_type": "code",
        "colab": {}
      },
      "source": [
        "b = 2"
      ],
      "execution_count": 0,
      "outputs": []
    },
    {
      "cell_type": "code",
      "metadata": {
        "id": "BTMJSi3_hGLK",
        "colab_type": "code",
        "outputId": "19cd082a-3902-4e91-fa30-41e0e2dad203",
        "colab": {
          "base_uri": "https://localhost:8080/",
          "height": 34
        }
      },
      "source": [
        "a**2 + a"
      ],
      "execution_count": 82,
      "outputs": [
        {
          "output_type": "execute_result",
          "data": {
            "text/plain": [
              "42"
            ]
          },
          "metadata": {
            "tags": []
          },
          "execution_count": 82
        }
      ]
    },
    {
      "cell_type": "code",
      "metadata": {
        "id": "yw6vb6UekEI_",
        "colab_type": "code",
        "outputId": "e68a77e9-29f9-453a-a37c-98ac5008902b",
        "colab": {
          "base_uri": "https://localhost:8080/",
          "height": 34
        }
      },
      "source": [
        "import math\n",
        "math.log(45)"
      ],
      "execution_count": 83,
      "outputs": [
        {
          "output_type": "execute_result",
          "data": {
            "text/plain": [
              "3.8066624897703196"
            ]
          },
          "metadata": {
            "tags": []
          },
          "execution_count": 83
        }
      ]
    },
    {
      "cell_type": "code",
      "metadata": {
        "id": "a__wXECCkdmV",
        "colab_type": "code",
        "colab": {}
      },
      "source": [
        "x = 'Hello, World!'"
      ],
      "execution_count": 0,
      "outputs": []
    },
    {
      "cell_type": "code",
      "metadata": {
        "id": "qjJQ6YJtki8F",
        "colab_type": "code",
        "outputId": "8a6c590a-e0d1-44d5-ef86-54f3eefb4368",
        "colab": {
          "base_uri": "https://localhost:8080/",
          "height": 34
        }
      },
      "source": [
        "x"
      ],
      "execution_count": 85,
      "outputs": [
        {
          "output_type": "execute_result",
          "data": {
            "text/plain": [
              "'Hello, World!'"
            ]
          },
          "metadata": {
            "tags": []
          },
          "execution_count": 85
        }
      ]
    },
    {
      "cell_type": "code",
      "metadata": {
        "id": "kBHsAhAkhhKR",
        "colab_type": "code",
        "outputId": "bc0c30ab-5156-4e3a-d936-16f5197962a3",
        "colab": {
          "base_uri": "https://localhost:8080/",
          "height": 34
        }
      },
      "source": [
        "print(x)"
      ],
      "execution_count": 86,
      "outputs": [
        {
          "output_type": "stream",
          "text": [
            "Hello, World!\n"
          ],
          "name": "stdout"
        }
      ]
    },
    {
      "cell_type": "code",
      "metadata": {
        "id": "umBkojp5mGMc",
        "colab_type": "code",
        "outputId": "19749432-c591-47c2-df46-72dff321a712",
        "colab": {
          "base_uri": "https://localhost:8080/",
          "height": 34
        }
      },
      "source": [
        "x+x"
      ],
      "execution_count": 87,
      "outputs": [
        {
          "output_type": "execute_result",
          "data": {
            "text/plain": [
              "'Hello, World!Hello, World!'"
            ]
          },
          "metadata": {
            "tags": []
          },
          "execution_count": 87
        }
      ]
    },
    {
      "cell_type": "code",
      "metadata": {
        "id": "8H4HUeb8mH3y",
        "colab_type": "code",
        "outputId": "c94bc276-c298-4506-d232-4c891c0fe774",
        "colab": {
          "base_uri": "https://localhost:8080/",
          "height": 34
        }
      },
      "source": [
        "x*3"
      ],
      "execution_count": 88,
      "outputs": [
        {
          "output_type": "execute_result",
          "data": {
            "text/plain": [
              "'Hello, World!Hello, World!Hello, World!'"
            ]
          },
          "metadata": {
            "tags": []
          },
          "execution_count": 88
        }
      ]
    },
    {
      "cell_type": "code",
      "metadata": {
        "id": "3BFsqKALmJhA",
        "colab_type": "code",
        "outputId": "cf9a1e7f-df9b-4b30-83ff-c99c7eed15f0",
        "colab": {
          "base_uri": "https://localhost:8080/",
          "height": 34
        }
      },
      "source": [
        "x + ' Lets repeat ' + x"
      ],
      "execution_count": 89,
      "outputs": [
        {
          "output_type": "execute_result",
          "data": {
            "text/plain": [
              "'Hello, World! Lets repeat Hello, World!'"
            ]
          },
          "metadata": {
            "tags": []
          },
          "execution_count": 89
        }
      ]
    },
    {
      "cell_type": "markdown",
      "metadata": {
        "id": "2lKbN_AykloP",
        "colab_type": "text"
      },
      "source": [
        "## Data Types"
      ]
    },
    {
      "cell_type": "code",
      "metadata": {
        "id": "3sIGbaK8hq7C",
        "colab_type": "code",
        "colab": {}
      },
      "source": [
        "a = 123"
      ],
      "execution_count": 0,
      "outputs": []
    },
    {
      "cell_type": "code",
      "metadata": {
        "id": "vvAz1CXhlgIn",
        "colab_type": "code",
        "outputId": "db9033b1-8fa9-45fe-82ff-ae7a25e7791b",
        "colab": {
          "base_uri": "https://localhost:8080/",
          "height": 34
        }
      },
      "source": [
        "type(a)"
      ],
      "execution_count": 91,
      "outputs": [
        {
          "output_type": "execute_result",
          "data": {
            "text/plain": [
              "int"
            ]
          },
          "metadata": {
            "tags": []
          },
          "execution_count": 91
        }
      ]
    },
    {
      "cell_type": "code",
      "metadata": {
        "id": "IhggiL3eliAe",
        "colab_type": "code",
        "colab": {}
      },
      "source": [
        "b = 123.45"
      ],
      "execution_count": 0,
      "outputs": []
    },
    {
      "cell_type": "code",
      "metadata": {
        "id": "EuuaSlFwlkIe",
        "colab_type": "code",
        "outputId": "27aecd84-2f7b-49fc-d7f8-8455a9a2b805",
        "colab": {
          "base_uri": "https://localhost:8080/",
          "height": 34
        }
      },
      "source": [
        "type(b)"
      ],
      "execution_count": 93,
      "outputs": [
        {
          "output_type": "execute_result",
          "data": {
            "text/plain": [
              "float"
            ]
          },
          "metadata": {
            "tags": []
          },
          "execution_count": 93
        }
      ]
    },
    {
      "cell_type": "code",
      "metadata": {
        "id": "y1NS3fCZllFQ",
        "colab_type": "code",
        "colab": {}
      },
      "source": [
        "c = 'Alpha'"
      ],
      "execution_count": 0,
      "outputs": []
    },
    {
      "cell_type": "code",
      "metadata": {
        "id": "yzz5ebfylptu",
        "colab_type": "code",
        "outputId": "01fa83a5-2966-442b-fd13-d215fa9fa95c",
        "colab": {
          "base_uri": "https://localhost:8080/",
          "height": 34
        }
      },
      "source": [
        "type(c)"
      ],
      "execution_count": 95,
      "outputs": [
        {
          "output_type": "execute_result",
          "data": {
            "text/plain": [
              "str"
            ]
          },
          "metadata": {
            "tags": []
          },
          "execution_count": 95
        }
      ]
    },
    {
      "cell_type": "code",
      "metadata": {
        "id": "kDFFTNMDlq1H",
        "colab_type": "code",
        "outputId": "441fd8a3-6170-4aae-8f19-f8b8a8bae882",
        "colab": {
          "base_uri": "https://localhost:8080/",
          "height": 34
        }
      },
      "source": [
        "int(b)"
      ],
      "execution_count": 96,
      "outputs": [
        {
          "output_type": "execute_result",
          "data": {
            "text/plain": [
              "123"
            ]
          },
          "metadata": {
            "tags": []
          },
          "execution_count": 96
        }
      ]
    },
    {
      "cell_type": "code",
      "metadata": {
        "id": "JEldi5fSltRU",
        "colab_type": "code",
        "outputId": "995c3c59-8898-4125-e287-f9125f44131c",
        "colab": {
          "base_uri": "https://localhost:8080/",
          "height": 34
        }
      },
      "source": [
        "str(a)"
      ],
      "execution_count": 97,
      "outputs": [
        {
          "output_type": "execute_result",
          "data": {
            "text/plain": [
              "'123'"
            ]
          },
          "metadata": {
            "tags": []
          },
          "execution_count": 97
        }
      ]
    },
    {
      "cell_type": "markdown",
      "metadata": {
        "id": "PUN35pUGm3Up",
        "colab_type": "text"
      },
      "source": [
        "## Functions"
      ]
    },
    {
      "cell_type": "code",
      "metadata": {
        "id": "7Fl10RStn0vf",
        "colab_type": "code",
        "colab": {}
      },
      "source": [
        "plancks = 6.626e-34"
      ],
      "execution_count": 0,
      "outputs": []
    },
    {
      "cell_type": "code",
      "metadata": {
        "id": "3nq7Sc8Bm6Cu",
        "colab_type": "code",
        "colab": {}
      },
      "source": [
        "def find_energy(frequency):\n",
        "  e = plancks * frequency\n",
        "  return e"
      ],
      "execution_count": 0,
      "outputs": []
    },
    {
      "cell_type": "code",
      "metadata": {
        "id": "2StXYdS_oOq0",
        "colab_type": "code",
        "outputId": "5397260f-6d97-4099-80a4-9d9359636610",
        "colab": {
          "base_uri": "https://localhost:8080/",
          "height": 34
        }
      },
      "source": [
        "find_energy(4e14)"
      ],
      "execution_count": 100,
      "outputs": [
        {
          "output_type": "execute_result",
          "data": {
            "text/plain": [
              "2.6504e-19"
            ]
          },
          "metadata": {
            "tags": []
          },
          "execution_count": 100
        }
      ]
    },
    {
      "cell_type": "markdown",
      "metadata": {
        "id": "JMT1XLAupFr5",
        "colab_type": "text"
      },
      "source": [
        "## If Condition"
      ]
    },
    {
      "cell_type": "code",
      "metadata": {
        "id": "Y6pktp4cqg4A",
        "colab_type": "code",
        "colab": {}
      },
      "source": [
        "energy_gap = 3"
      ],
      "execution_count": 0,
      "outputs": []
    },
    {
      "cell_type": "code",
      "metadata": {
        "id": "65N75ITyrzmU",
        "colab_type": "code",
        "colab": {
          "base_uri": "https://localhost:8080/",
          "height": 34
        },
        "outputId": "3add6324-d329-4602-fe74-f13bf9f2b96e"
      },
      "source": [
        "if (energy_gap>9):\n",
        "  print(\"Insulator\")\n",
        "elif (energy_gap<0.1):\n",
        "  print(\"Conductor\")\n",
        "else:\n",
        "  print(\"Semi-Conductor\")"
      ],
      "execution_count": 102,
      "outputs": [
        {
          "output_type": "stream",
          "text": [
            "Semi-Conductor\n"
          ],
          "name": "stdout"
        }
      ]
    },
    {
      "cell_type": "markdown",
      "metadata": {
        "id": "OmqEnrXedqJm",
        "colab_type": "text"
      },
      "source": [
        "## For Loop"
      ]
    },
    {
      "cell_type": "code",
      "metadata": {
        "id": "Uou4OvOado6U",
        "colab_type": "code",
        "colab": {}
      },
      "source": [
        "rydberg = 1.09e7"
      ],
      "execution_count": 0,
      "outputs": []
    },
    {
      "cell_type": "code",
      "metadata": {
        "id": "tJTu5C7mfOdA",
        "colab_type": "code",
        "colab": {
          "base_uri": "https://localhost:8080/",
          "height": 105
        },
        "outputId": "21948946-600f-4f41-94f7-3d4cdb9ca5eb"
      },
      "source": [
        "for n in range(2,7):\n",
        "  wavelength = 1/(rydberg*(1-(1/n**2)))\n",
        "  print(wavelength)"
      ],
      "execution_count": 104,
      "outputs": [
        {
          "output_type": "stream",
          "text": [
            "1.2232415902140672e-07\n",
            "1.0321100917431193e-07\n",
            "9.785932721712538e-08\n",
            "9.556574923547401e-08\n",
            "9.43643512450852e-08\n"
          ],
          "name": "stdout"
        }
      ]
    },
    {
      "cell_type": "markdown",
      "metadata": {
        "id": "mQO2tLwPf2IW",
        "colab_type": "text"
      },
      "source": [
        "## While loop"
      ]
    },
    {
      "cell_type": "code",
      "metadata": {
        "id": "0nK01HbIhG2f",
        "colab_type": "code",
        "colab": {}
      },
      "source": [
        "import numpy"
      ],
      "execution_count": 0,
      "outputs": []
    },
    {
      "cell_type": "code",
      "metadata": {
        "id": "-NA9kMpEf4bR",
        "colab_type": "code",
        "colab": {}
      },
      "source": [
        "n1 = 1.5 # Glass"
      ],
      "execution_count": 0,
      "outputs": []
    },
    {
      "cell_type": "code",
      "metadata": {
        "id": "NNWdUDw1gt4d",
        "colab_type": "code",
        "colab": {}
      },
      "source": [
        "n2 = 1 # Air"
      ],
      "execution_count": 0,
      "outputs": []
    },
    {
      "cell_type": "code",
      "metadata": {
        "id": "x1Is6jTAg3zQ",
        "colab_type": "code",
        "colab": {
          "base_uri": "https://localhost:8080/",
          "height": 763
        },
        "outputId": "070d3b0f-f7f8-40c1-a4a6-bbf4eaa07b28"
      },
      "source": [
        "angle_i = 0\n",
        "while angle_i < (numpy.arcsin(n2/n1) * 180/3.1416):\n",
        "  print(str(angle_i)+\" Refracted\")\n",
        "  angle_i += 1"
      ],
      "execution_count": 108,
      "outputs": [
        {
          "output_type": "stream",
          "text": [
            "0 Refracted\n",
            "1 Refracted\n",
            "2 Refracted\n",
            "3 Refracted\n",
            "4 Refracted\n",
            "5 Refracted\n",
            "6 Refracted\n",
            "7 Refracted\n",
            "8 Refracted\n",
            "9 Refracted\n",
            "10 Refracted\n",
            "11 Refracted\n",
            "12 Refracted\n",
            "13 Refracted\n",
            "14 Refracted\n",
            "15 Refracted\n",
            "16 Refracted\n",
            "17 Refracted\n",
            "18 Refracted\n",
            "19 Refracted\n",
            "20 Refracted\n",
            "21 Refracted\n",
            "22 Refracted\n",
            "23 Refracted\n",
            "24 Refracted\n",
            "25 Refracted\n",
            "26 Refracted\n",
            "27 Refracted\n",
            "28 Refracted\n",
            "29 Refracted\n",
            "30 Refracted\n",
            "31 Refracted\n",
            "32 Refracted\n",
            "33 Refracted\n",
            "34 Refracted\n",
            "35 Refracted\n",
            "36 Refracted\n",
            "37 Refracted\n",
            "38 Refracted\n",
            "39 Refracted\n",
            "40 Refracted\n",
            "41 Refracted\n"
          ],
          "name": "stdout"
        }
      ]
    },
    {
      "cell_type": "markdown",
      "metadata": {
        "id": "sEGJ8CZLjPGV",
        "colab_type": "text"
      },
      "source": [
        "## Data Structures"
      ]
    },
    {
      "cell_type": "markdown",
      "metadata": {
        "id": "oA2UHL6qjWns",
        "colab_type": "text"
      },
      "source": [
        "### Strings"
      ]
    },
    {
      "cell_type": "code",
      "metadata": {
        "id": "XlBuOuKGjOIv",
        "colab_type": "code",
        "colab": {}
      },
      "source": [
        "s = 'Machine Learning'"
      ],
      "execution_count": 0,
      "outputs": []
    },
    {
      "cell_type": "code",
      "metadata": {
        "id": "TTXFrykmjhPk",
        "colab_type": "code",
        "colab": {
          "base_uri": "https://localhost:8080/",
          "height": 34
        },
        "outputId": "212f4a0e-fe70-402e-e082-e8f8e0e64e38"
      },
      "source": [
        "s.replace('L','W')"
      ],
      "execution_count": 110,
      "outputs": [
        {
          "output_type": "execute_result",
          "data": {
            "text/plain": [
              "'Machine Wearning'"
            ]
          },
          "metadata": {
            "tags": []
          },
          "execution_count": 110
        }
      ]
    },
    {
      "cell_type": "code",
      "metadata": {
        "id": "OHWagx7yjrg3",
        "colab_type": "code",
        "colab": {
          "base_uri": "https://localhost:8080/",
          "height": 34
        },
        "outputId": "f8fe3968-6755-4394-9702-4604487fee66"
      },
      "source": [
        "s.split(' ')"
      ],
      "execution_count": 111,
      "outputs": [
        {
          "output_type": "execute_result",
          "data": {
            "text/plain": [
              "['Machine', 'Learning']"
            ]
          },
          "metadata": {
            "tags": []
          },
          "execution_count": 111
        }
      ]
    },
    {
      "cell_type": "markdown",
      "metadata": {
        "id": "8WGZR5GBj0Bm",
        "colab_type": "text"
      },
      "source": [
        "### Lists"
      ]
    },
    {
      "cell_type": "code",
      "metadata": {
        "id": "nMv8yV9Mjzuz",
        "colab_type": "code",
        "colab": {}
      },
      "source": [
        "l = ['1',2]"
      ],
      "execution_count": 0,
      "outputs": []
    },
    {
      "cell_type": "code",
      "metadata": {
        "id": "eSprTeW3jvq1",
        "colab_type": "code",
        "colab": {}
      },
      "source": [
        "l.append('Python')"
      ],
      "execution_count": 0,
      "outputs": []
    },
    {
      "cell_type": "code",
      "metadata": {
        "id": "ZbuBMf-jkEnz",
        "colab_type": "code",
        "colab": {
          "base_uri": "https://localhost:8080/",
          "height": 34
        },
        "outputId": "07508f13-2971-4478-f6af-cb785257b6ad"
      },
      "source": [
        "l"
      ],
      "execution_count": 114,
      "outputs": [
        {
          "output_type": "execute_result",
          "data": {
            "text/plain": [
              "['1', 2, 'Python']"
            ]
          },
          "metadata": {
            "tags": []
          },
          "execution_count": 114
        }
      ]
    },
    {
      "cell_type": "code",
      "metadata": {
        "id": "8ONAgfuwkGhc",
        "colab_type": "code",
        "colab": {
          "base_uri": "https://localhost:8080/",
          "height": 34
        },
        "outputId": "37610764-a7e7-429d-e640-642bce3066fd"
      },
      "source": [
        "l[0]"
      ],
      "execution_count": 115,
      "outputs": [
        {
          "output_type": "execute_result",
          "data": {
            "text/plain": [
              "'1'"
            ]
          },
          "metadata": {
            "tags": []
          },
          "execution_count": 115
        }
      ]
    },
    {
      "cell_type": "markdown",
      "metadata": {
        "id": "VAortURikNL5",
        "colab_type": "text"
      },
      "source": [
        "### Dictionary"
      ]
    },
    {
      "cell_type": "code",
      "metadata": {
        "id": "ZJXu5g8QkKbL",
        "colab_type": "code",
        "colab": {}
      },
      "source": [
        "physicists = {'Maxwell':['Electromagnetism','Thermodynamics','Statistics'], 'Newton':['Gravitation','Calculus','Optics']}"
      ],
      "execution_count": 0,
      "outputs": []
    },
    {
      "cell_type": "code",
      "metadata": {
        "id": "mAAtDdiRleLm",
        "colab_type": "code",
        "colab": {
          "base_uri": "https://localhost:8080/",
          "height": 34
        },
        "outputId": "ff5a3ac0-5e49-4150-d9ca-1af7385edbc0"
      },
      "source": [
        "physicists['Newton']"
      ],
      "execution_count": 117,
      "outputs": [
        {
          "output_type": "execute_result",
          "data": {
            "text/plain": [
              "['Gravitation', 'Calculus', 'Optics']"
            ]
          },
          "metadata": {
            "tags": []
          },
          "execution_count": 117
        }
      ]
    },
    {
      "cell_type": "code",
      "metadata": {
        "id": "J-6CgoO6liAp",
        "colab_type": "code",
        "colab": {
          "base_uri": "https://localhost:8080/",
          "height": 34
        },
        "outputId": "336ffd1f-a5a0-4f0e-fb0a-fa5fc8c0b7a5"
      },
      "source": [
        "physicists.keys()"
      ],
      "execution_count": 118,
      "outputs": [
        {
          "output_type": "execute_result",
          "data": {
            "text/plain": [
              "dict_keys(['Maxwell', 'Newton'])"
            ]
          },
          "metadata": {
            "tags": []
          },
          "execution_count": 118
        }
      ]
    },
    {
      "cell_type": "code",
      "metadata": {
        "id": "19zFhdQllldn",
        "colab_type": "code",
        "colab": {
          "base_uri": "https://localhost:8080/",
          "height": 34
        },
        "outputId": "73fc785e-2e22-4bba-c63d-4984d0662c4d"
      },
      "source": [
        "physicists.values()"
      ],
      "execution_count": 119,
      "outputs": [
        {
          "output_type": "execute_result",
          "data": {
            "text/plain": [
              "dict_values([['Electromagnetism', 'Thermodynamics', 'Statistics'], ['Gravitation', 'Calculus', 'Optics']])"
            ]
          },
          "metadata": {
            "tags": []
          },
          "execution_count": 119
        }
      ]
    },
    {
      "cell_type": "markdown",
      "metadata": {
        "id": "pO9IFTL4lo95",
        "colab_type": "text"
      },
      "source": [
        "### Tuples"
      ]
    },
    {
      "cell_type": "code",
      "metadata": {
        "id": "yr75o7ZQln6n",
        "colab_type": "code",
        "colab": {}
      },
      "source": [
        "t = (3.14159, 3e8, 6.67e-11, 6.62e-34)"
      ],
      "execution_count": 0,
      "outputs": []
    },
    {
      "cell_type": "code",
      "metadata": {
        "id": "8zYdKf2vmQ4R",
        "colab_type": "code",
        "colab": {
          "base_uri": "https://localhost:8080/",
          "height": 34
        },
        "outputId": "bebdb8f1-97aa-44eb-8c58-b41df38d32f9"
      },
      "source": [
        "t[2]"
      ],
      "execution_count": 121,
      "outputs": [
        {
          "output_type": "execute_result",
          "data": {
            "text/plain": [
              "6.67e-11"
            ]
          },
          "metadata": {
            "tags": []
          },
          "execution_count": 121
        }
      ]
    },
    {
      "cell_type": "markdown",
      "metadata": {
        "id": "kUapjlijmgaQ",
        "colab_type": "text"
      },
      "source": [
        "### Numpy Arrays"
      ]
    },
    {
      "cell_type": "code",
      "metadata": {
        "id": "544DEX9DmSPT",
        "colab_type": "code",
        "colab": {}
      },
      "source": [
        "import numpy as np"
      ],
      "execution_count": 0,
      "outputs": []
    },
    {
      "cell_type": "code",
      "metadata": {
        "id": "3WRkQMzYmlME",
        "colab_type": "code",
        "colab": {}
      },
      "source": [
        "a =  np.array([1,1,2,3,5,8,13], float)"
      ],
      "execution_count": 0,
      "outputs": []
    },
    {
      "cell_type": "code",
      "metadata": {
        "id": "5Q8Nwa0GmrsZ",
        "colab_type": "code",
        "colab": {
          "base_uri": "https://localhost:8080/",
          "height": 34
        },
        "outputId": "69f41e4d-b9fc-45ee-d49d-a5bd07005fbe"
      },
      "source": [
        "a"
      ],
      "execution_count": 124,
      "outputs": [
        {
          "output_type": "execute_result",
          "data": {
            "text/plain": [
              "array([ 1.,  1.,  2.,  3.,  5.,  8., 13.])"
            ]
          },
          "metadata": {
            "tags": []
          },
          "execution_count": 124
        }
      ]
    },
    {
      "cell_type": "code",
      "metadata": {
        "id": "9KzlxHDHmsVh",
        "colab_type": "code",
        "colab": {
          "base_uri": "https://localhost:8080/",
          "height": 34
        },
        "outputId": "a2cfbdad-3482-4712-93ae-5efb8b6b3fc0"
      },
      "source": [
        "len(a)"
      ],
      "execution_count": 125,
      "outputs": [
        {
          "output_type": "execute_result",
          "data": {
            "text/plain": [
              "7"
            ]
          },
          "metadata": {
            "tags": []
          },
          "execution_count": 125
        }
      ]
    },
    {
      "cell_type": "code",
      "metadata": {
        "id": "biyN9f5hmxOS",
        "colab_type": "code",
        "colab": {
          "base_uri": "https://localhost:8080/",
          "height": 34
        },
        "outputId": "43027d87-2fdf-4b1e-cf3c-9afa4f0765da"
      },
      "source": [
        "a.mean()"
      ],
      "execution_count": 126,
      "outputs": [
        {
          "output_type": "execute_result",
          "data": {
            "text/plain": [
              "4.714285714285714"
            ]
          },
          "metadata": {
            "tags": []
          },
          "execution_count": 126
        }
      ]
    },
    {
      "cell_type": "markdown",
      "metadata": {
        "id": "Y973D6MYm9Ts",
        "colab_type": "text"
      },
      "source": [
        "### Series"
      ]
    },
    {
      "cell_type": "code",
      "metadata": {
        "id": "NMKT0ZhZmzaS",
        "colab_type": "code",
        "colab": {}
      },
      "source": [
        "import pandas as pd"
      ],
      "execution_count": 0,
      "outputs": []
    },
    {
      "cell_type": "code",
      "metadata": {
        "id": "4kJ-vJ22nA9F",
        "colab_type": "code",
        "colab": {}
      },
      "source": [
        "s = pd.Series([3.14159, 3e8, 6.67e-11, 6.62e-34], index = ['pi', 'c', 'G', 'h'])"
      ],
      "execution_count": 0,
      "outputs": []
    },
    {
      "cell_type": "code",
      "metadata": {
        "id": "H83NSEMmnRQC",
        "colab_type": "code",
        "colab": {
          "base_uri": "https://localhost:8080/",
          "height": 34
        },
        "outputId": "03fe5e87-4245-4de4-bd64-fd4f96a7e9b0"
      },
      "source": [
        "s['pi']"
      ],
      "execution_count": 129,
      "outputs": [
        {
          "output_type": "execute_result",
          "data": {
            "text/plain": [
              "3.14159"
            ]
          },
          "metadata": {
            "tags": []
          },
          "execution_count": 129
        }
      ]
    },
    {
      "cell_type": "code",
      "metadata": {
        "id": "AU99BsMHnU2N",
        "colab_type": "code",
        "colab": {
          "base_uri": "https://localhost:8080/",
          "height": 34
        },
        "outputId": "1b28dabd-f096-482d-a794-9040bf4cb7ce"
      },
      "source": [
        "s.mean()"
      ],
      "execution_count": 130,
      "outputs": [
        {
          "output_type": "execute_result",
          "data": {
            "text/plain": [
              "75000000.7853975"
            ]
          },
          "metadata": {
            "tags": []
          },
          "execution_count": 130
        }
      ]
    },
    {
      "cell_type": "code",
      "metadata": {
        "id": "DTW7L23vnk_K",
        "colab_type": "code",
        "colab": {
          "base_uri": "https://localhost:8080/",
          "height": 34
        },
        "outputId": "c1ca637c-52f3-4dba-bb75-285a5915770c"
      },
      "source": [
        "s.loc['h']"
      ],
      "execution_count": 131,
      "outputs": [
        {
          "output_type": "execute_result",
          "data": {
            "text/plain": [
              "6.62e-34"
            ]
          },
          "metadata": {
            "tags": []
          },
          "execution_count": 131
        }
      ]
    },
    {
      "cell_type": "code",
      "metadata": {
        "id": "QT8IFC9HnzgX",
        "colab_type": "code",
        "colab": {
          "base_uri": "https://localhost:8080/",
          "height": 34
        },
        "outputId": "f6c248c8-843d-49c4-dd66-e7c515efc2cf"
      },
      "source": [
        "s.iloc[3]"
      ],
      "execution_count": 132,
      "outputs": [
        {
          "output_type": "execute_result",
          "data": {
            "text/plain": [
              "6.62e-34"
            ]
          },
          "metadata": {
            "tags": []
          },
          "execution_count": 132
        }
      ]
    },
    {
      "cell_type": "markdown",
      "metadata": {
        "id": "bxn-FlYfn5ID",
        "colab_type": "text"
      },
      "source": [
        "### Data Frames"
      ]
    },
    {
      "cell_type": "code",
      "metadata": {
        "id": "jxb_6jJOn3Ug",
        "colab_type": "code",
        "colab": {}
      },
      "source": [
        "d = {'name':['Tesla','Feynman','Galileo','Hawking'], 'birth':[1856,1918,1564,1942], 'death':[1943,1988,1642,2018]}"
      ],
      "execution_count": 0,
      "outputs": []
    },
    {
      "cell_type": "code",
      "metadata": {
        "id": "W9UOEELSqhGD",
        "colab_type": "code",
        "colab": {}
      },
      "source": [
        "dataframe = pd.DataFrame(d)"
      ],
      "execution_count": 0,
      "outputs": []
    },
    {
      "cell_type": "code",
      "metadata": {
        "id": "KOsfcGxYqovl",
        "colab_type": "code",
        "colab": {
          "base_uri": "https://localhost:8080/",
          "height": 167
        },
        "outputId": "bb6b39da-483a-48e8-f21c-7ad9fd3d9fb0"
      },
      "source": [
        "dataframe"
      ],
      "execution_count": 135,
      "outputs": [
        {
          "output_type": "execute_result",
          "data": {
            "text/html": [
              "<div>\n",
              "<style scoped>\n",
              "    .dataframe tbody tr th:only-of-type {\n",
              "        vertical-align: middle;\n",
              "    }\n",
              "\n",
              "    .dataframe tbody tr th {\n",
              "        vertical-align: top;\n",
              "    }\n",
              "\n",
              "    .dataframe thead th {\n",
              "        text-align: right;\n",
              "    }\n",
              "</style>\n",
              "<table border=\"1\" class=\"dataframe\">\n",
              "  <thead>\n",
              "    <tr style=\"text-align: right;\">\n",
              "      <th></th>\n",
              "      <th>name</th>\n",
              "      <th>birth</th>\n",
              "      <th>death</th>\n",
              "    </tr>\n",
              "  </thead>\n",
              "  <tbody>\n",
              "    <tr>\n",
              "      <th>0</th>\n",
              "      <td>Tesla</td>\n",
              "      <td>1856</td>\n",
              "      <td>1943</td>\n",
              "    </tr>\n",
              "    <tr>\n",
              "      <th>1</th>\n",
              "      <td>Feynman</td>\n",
              "      <td>1918</td>\n",
              "      <td>1988</td>\n",
              "    </tr>\n",
              "    <tr>\n",
              "      <th>2</th>\n",
              "      <td>Galileo</td>\n",
              "      <td>1564</td>\n",
              "      <td>1642</td>\n",
              "    </tr>\n",
              "    <tr>\n",
              "      <th>3</th>\n",
              "      <td>Hawking</td>\n",
              "      <td>1942</td>\n",
              "      <td>2018</td>\n",
              "    </tr>\n",
              "  </tbody>\n",
              "</table>\n",
              "</div>"
            ],
            "text/plain": [
              "      name  birth  death\n",
              "0    Tesla   1856   1943\n",
              "1  Feynman   1918   1988\n",
              "2  Galileo   1564   1642\n",
              "3  Hawking   1942   2018"
            ]
          },
          "metadata": {
            "tags": []
          },
          "execution_count": 135
        }
      ]
    },
    {
      "cell_type": "code",
      "metadata": {
        "id": "PIl5FPlNqr-a",
        "colab_type": "code",
        "colab": {
          "base_uri": "https://localhost:8080/",
          "height": 105
        },
        "outputId": "85a5ad03-dbe1-4bb7-cc88-73e5c579a2b6"
      },
      "source": [
        "dataframe.loc[:,'birth']"
      ],
      "execution_count": 136,
      "outputs": [
        {
          "output_type": "execute_result",
          "data": {
            "text/plain": [
              "0    1856\n",
              "1    1918\n",
              "2    1564\n",
              "3    1942\n",
              "Name: birth, dtype: int64"
            ]
          },
          "metadata": {
            "tags": []
          },
          "execution_count": 136
        }
      ]
    },
    {
      "cell_type": "code",
      "metadata": {
        "id": "5Rfl2RW2qyso",
        "colab_type": "code",
        "colab": {
          "base_uri": "https://localhost:8080/",
          "height": 105
        },
        "outputId": "38bbce4a-7ff3-45af-b19f-698ce2ad523b"
      },
      "source": [
        "dataframe.iloc[:,1]"
      ],
      "execution_count": 137,
      "outputs": [
        {
          "output_type": "execute_result",
          "data": {
            "text/plain": [
              "0    1856\n",
              "1    1918\n",
              "2    1564\n",
              "3    1942\n",
              "Name: birth, dtype: int64"
            ]
          },
          "metadata": {
            "tags": []
          },
          "execution_count": 137
        }
      ]
    },
    {
      "cell_type": "code",
      "metadata": {
        "id": "4dj4Pcahq1_l",
        "colab_type": "code",
        "colab": {
          "base_uri": "https://localhost:8080/",
          "height": 107
        },
        "outputId": "0402badf-c26d-4dfa-bf35-30afea1a7588"
      },
      "source": [
        "dataframe.iloc[:2]"
      ],
      "execution_count": 138,
      "outputs": [
        {
          "output_type": "execute_result",
          "data": {
            "text/html": [
              "<div>\n",
              "<style scoped>\n",
              "    .dataframe tbody tr th:only-of-type {\n",
              "        vertical-align: middle;\n",
              "    }\n",
              "\n",
              "    .dataframe tbody tr th {\n",
              "        vertical-align: top;\n",
              "    }\n",
              "\n",
              "    .dataframe thead th {\n",
              "        text-align: right;\n",
              "    }\n",
              "</style>\n",
              "<table border=\"1\" class=\"dataframe\">\n",
              "  <thead>\n",
              "    <tr style=\"text-align: right;\">\n",
              "      <th></th>\n",
              "      <th>name</th>\n",
              "      <th>birth</th>\n",
              "      <th>death</th>\n",
              "    </tr>\n",
              "  </thead>\n",
              "  <tbody>\n",
              "    <tr>\n",
              "      <th>0</th>\n",
              "      <td>Tesla</td>\n",
              "      <td>1856</td>\n",
              "      <td>1943</td>\n",
              "    </tr>\n",
              "    <tr>\n",
              "      <th>1</th>\n",
              "      <td>Feynman</td>\n",
              "      <td>1918</td>\n",
              "      <td>1988</td>\n",
              "    </tr>\n",
              "  </tbody>\n",
              "</table>\n",
              "</div>"
            ],
            "text/plain": [
              "      name  birth  death\n",
              "0    Tesla   1856   1943\n",
              "1  Feynman   1918   1988"
            ]
          },
          "metadata": {
            "tags": []
          },
          "execution_count": 138
        }
      ]
    },
    {
      "cell_type": "code",
      "metadata": {
        "id": "DYcWqrWtq79N",
        "colab_type": "code",
        "colab": {
          "base_uri": "https://localhost:8080/",
          "height": 34
        },
        "outputId": "bf0bebb9-6c7c-4400-ca7a-f2cda50beaf6"
      },
      "source": [
        "dataframe.iloc[2,2]"
      ],
      "execution_count": 139,
      "outputs": [
        {
          "output_type": "execute_result",
          "data": {
            "text/plain": [
              "1642"
            ]
          },
          "metadata": {
            "tags": []
          },
          "execution_count": 139
        }
      ]
    },
    {
      "cell_type": "code",
      "metadata": {
        "id": "M8rvSQGurCKy",
        "colab_type": "code",
        "colab": {}
      },
      "source": [
        "dataframe['age'] = dataframe.death - dataframe.birth"
      ],
      "execution_count": 0,
      "outputs": []
    },
    {
      "cell_type": "code",
      "metadata": {
        "id": "vPK8HgLXrPx7",
        "colab_type": "code",
        "colab": {
          "base_uri": "https://localhost:8080/",
          "height": 167
        },
        "outputId": "bb9ac259-435d-458a-c195-77d571c99bad"
      },
      "source": [
        "dataframe"
      ],
      "execution_count": 141,
      "outputs": [
        {
          "output_type": "execute_result",
          "data": {
            "text/html": [
              "<div>\n",
              "<style scoped>\n",
              "    .dataframe tbody tr th:only-of-type {\n",
              "        vertical-align: middle;\n",
              "    }\n",
              "\n",
              "    .dataframe tbody tr th {\n",
              "        vertical-align: top;\n",
              "    }\n",
              "\n",
              "    .dataframe thead th {\n",
              "        text-align: right;\n",
              "    }\n",
              "</style>\n",
              "<table border=\"1\" class=\"dataframe\">\n",
              "  <thead>\n",
              "    <tr style=\"text-align: right;\">\n",
              "      <th></th>\n",
              "      <th>name</th>\n",
              "      <th>birth</th>\n",
              "      <th>death</th>\n",
              "      <th>age</th>\n",
              "    </tr>\n",
              "  </thead>\n",
              "  <tbody>\n",
              "    <tr>\n",
              "      <th>0</th>\n",
              "      <td>Tesla</td>\n",
              "      <td>1856</td>\n",
              "      <td>1943</td>\n",
              "      <td>87</td>\n",
              "    </tr>\n",
              "    <tr>\n",
              "      <th>1</th>\n",
              "      <td>Feynman</td>\n",
              "      <td>1918</td>\n",
              "      <td>1988</td>\n",
              "      <td>70</td>\n",
              "    </tr>\n",
              "    <tr>\n",
              "      <th>2</th>\n",
              "      <td>Galileo</td>\n",
              "      <td>1564</td>\n",
              "      <td>1642</td>\n",
              "      <td>78</td>\n",
              "    </tr>\n",
              "    <tr>\n",
              "      <th>3</th>\n",
              "      <td>Hawking</td>\n",
              "      <td>1942</td>\n",
              "      <td>2018</td>\n",
              "      <td>76</td>\n",
              "    </tr>\n",
              "  </tbody>\n",
              "</table>\n",
              "</div>"
            ],
            "text/plain": [
              "      name  birth  death  age\n",
              "0    Tesla   1856   1943   87\n",
              "1  Feynman   1918   1988   70\n",
              "2  Galileo   1564   1642   78\n",
              "3  Hawking   1942   2018   76"
            ]
          },
          "metadata": {
            "tags": []
          },
          "execution_count": 141
        }
      ]
    }
  ]
}